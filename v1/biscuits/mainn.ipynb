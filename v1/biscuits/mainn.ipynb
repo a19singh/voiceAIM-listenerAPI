{
 "cells": [
  {
   "cell_type": "code",
   "execution_count": 51,
   "metadata": {},
   "outputs": [],
   "source": [
    "import subprocess\n",
    "package_cmd = \"remove package firefox\"\n",
    "service_cmd = \"start service firewalld\"\n",
    "user_cmd = \"remove user harry\"\n",
    "\n",
    "#voicetext = package_cmd\n",
    "#voicetext = service_cmd\n",
    "voicetext = user_cmd\n",
    "\n",
    "\n",
    "if \"package\" in voicetext:\n",
    "    task = \"package\"\n",
    "elif \"service\" in voicetext:\n",
    "    task = \"service\"\n",
    "elif \"user\" in voicetext:\n",
    "    task = \"user\"\n",
    "\n",
    "exec(task+\"_manager(voicetext)\")"
   ]
  },
  {
   "cell_type": "code",
   "execution_count": 22,
   "metadata": {},
   "outputs": [],
   "source": [
    "def package_manager(voicetext):\n",
    "    text = voicetext.strip().lower().split()\n",
    "    name = text[text.index(\"package\")+1]\n",
    "    state = text[text.index(\"package\")-1]\n",
    "    if state in (\"install\", \"present\", \"download\"):\n",
    "        state = \"present\"\n",
    "    else:\n",
    "        state = \"absent\"\n",
    "\n",
    "    ansible_data = '''\n",
    "    - hosts: localhost\n",
    "      tasks:\n",
    "        - name: \"Handling package... \"\n",
    "          package:\n",
    "            name: \"{0}\"\n",
    "            state: \"{1}\"\n",
    "    '''.format(name, state)\n",
    "\n",
    "    with open(\"../playbooks/package_manager.yml\",\"w\") as f:\n",
    "        f.write(ansible_data)\n",
    "\n",
    "    output = subprocess.getoutput(\"ansible-playbook ../playbooks/package_manager.yml\")\n",
    "    return(output)"
   ]
  },
  {
   "cell_type": "code",
   "execution_count": 18,
   "metadata": {},
   "outputs": [],
   "source": [
    "def service_manager(voicetext):\n",
    "    text = voicetext.strip().lower().split()\n",
    "    name = text[text.index(\"service\")+1]\n",
    "    state = text[text.index(\"service\")-1]\n",
    "    \n",
    "    if state in (\"start\", \"started\"):\n",
    "        state = \"started\"\n",
    "    elif state in (\"stopped\",\"stop\"):\n",
    "        state = \"stopped\"\n",
    "    elif state in (\"restart\", \"restarted\"):\n",
    "        state = \"restarted\"\n",
    "        \n",
    "        \n",
    "    ansible_data = '''\n",
    "    - hosts: localhost\n",
    "      tasks:\n",
    "        - name: \"Handling Service... \"\n",
    "          service:\n",
    "            name: \"{0}\"\n",
    "            state: \"{1}\"\n",
    "    '''.format(name, state)\n",
    "\n",
    "    with open(\"../playbooks/service_manager.yml\",\"w\") as f:\n",
    "        f.write(ansible_data)\n",
    "\n",
    "    output = subprocess.getoutput(\"ansible-playbook ../playbooks/service_manager.yml\")\n",
    "    return(output)"
   ]
  },
  {
   "cell_type": "code",
   "execution_count": 41,
   "metadata": {
    "scrolled": true
   },
   "outputs": [],
   "source": [
    "def user_manager(voicetext): #create user harry\n",
    "    text = voicetext.strip().lower().split()\n",
    "    name = text[text.index(\"user\")+1]\n",
    "    action = text[text.index(\"user\")-1]\n",
    "    \n",
    "    \n",
    "    if action in (\"create\", \"add\"):\n",
    "        ansible_data = '''\n",
    "- hosts: localhost\n",
    "  tasks:\n",
    "    - name: \"Adding User...\"\n",
    "      user:\n",
    "        name: \"{}\"\n",
    "        generate_ssh_key: yes\n",
    "        ssh_key_bits: 2048\n",
    "        ssh_key_file: .ssh/id_rsa\n",
    "        '''.format(name)\n",
    "    elif action in (\"remove\", \"delete\"):\n",
    "        ansible_data = '''\n",
    "- hosts: localhost\n",
    "  tasks:\n",
    "    - name: \"removing User...\"\n",
    "      user:\n",
    "        name: \"{}\"\n",
    "        state: absent\n",
    "        remove: yes\n",
    "        '''.format(name)\n",
    "        \n",
    "    with open(\"../playbooks/user_manager.yml\",\"w\") as f:\n",
    "        f.write(ansible_data)\n",
    "\n",
    "    output = subprocess.getoutput(\"ansible-playbook ../playbooks/user_manager.yml\")\n",
    "    return(output)"
   ]
  },
  {
   "cell_type": "code",
   "execution_count": 44,
   "metadata": {},
   "outputs": [
    {
     "name": "stdout",
     "output_type": "stream",
     "text": [
      "[WARNING]: provided hosts list is empty, only localhost is available. Note that\n",
      "the implicit localhost does not match 'all'\n",
      "\n",
      "PLAY [localhost] ***************************************************************\n",
      "\n",
      "TASK [Gathering Facts] *********************************************************\n",
      "ok: [localhost]\n",
      "\n",
      "TASK [removing User...] ********************************************************\n",
      "changed: [localhost]\n",
      "\n",
      "PLAY RECAP *********************************************************************\n",
      "localhost                  : ok=2    changed=1    unreachable=0    failed=0    skipped=0    rescued=0    ignored=0   \n",
      "\n"
     ]
    }
   ],
   "source": []
  },
  {
   "cell_type": "code",
   "execution_count": null,
   "metadata": {},
   "outputs": [],
   "source": []
  }
 ],
 "metadata": {
  "kernelspec": {
   "display_name": "Python 3",
   "language": "python",
   "name": "python3"
  },
  "language_info": {
   "codemirror_mode": {
    "name": "ipython",
    "version": 3
   },
   "file_extension": ".py",
   "mimetype": "text/x-python",
   "name": "python",
   "nbconvert_exporter": "python",
   "pygments_lexer": "ipython3",
   "version": "3.6.6"
  }
 },
 "nbformat": 4,
 "nbformat_minor": 4
}
